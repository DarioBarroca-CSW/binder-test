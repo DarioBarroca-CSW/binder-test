{
 "cells": [
  {
   "cell_type": "markdown",
   "id": "4266d159",
   "metadata": {},
   "source": [
    "# TC-ADD-0041 - Weather-Induced Extremes Digital Twin data access with EODAG\n",
    "\n",
    "This Notebook was prepared to allow the testing the usage of the EODAG Python Client to access data from the Weather-Induced Extremes Digital Twin.\n",
    "\n",
    "The key features assessed are the following:\n",
    "- Existence of DEDL as a provider in EODAG’s list of providers\n",
    "- Possibility to use EODAG to discover the EO.ECMWF.DAT.DT_EXTREMES provided by DEDL\n",
    "- Search for items inside of it\n",
    "\n",
    "The Notebook actions results can be found in the generated TC-ADD-0041-report, which contains a detailed account of the success/failure of each step.\n",
    "\n",
    "## Report Generation\n",
    "\n",
    "The report is generated through the usage of [BeautifulSoup](https://beautiful-soup-4.readthedocs.io/en/latest/), which is a Python library for pulling data out of HTML and XML files. It contains tools that facilitate navigating, searching, and modifying the content of these types of files. The following cell creates the base HTML file to which entries will be added after the execution of key test steps. The function entryWrite() is also defined here, which will be used to edit the base HTML file by adding an entry for each step that needs to be recorded with the result of the action. "
   ]
  },
  {
   "cell_type": "code",
   "execution_count": null,
   "id": "37735f28",
   "metadata": {
    "tags": []
   },
   "outputs": [],
   "source": [
    "from bs4 import BeautifulSoup\n",
    "\n",
    "soup = BeautifulSoup(\"\"\"<!DOCTYPE html>\n",
    "<html lang=\"en\">\n",
    "    <head>\n",
    "        <meta charset=\"utf-8\"/>\n",
    "        <meta content=\"width=device-width, initial-scale=1.0\" name=\"viewport\"/>\n",
    "        <title>\n",
    "            TC-ADD-0041 Test Report\n",
    "        </title>\n",
    "        <style>\n",
    "            body {\n",
    "                font-family: Arial, sans-serif;\n",
    "                margin: 0;\n",
    "                padding: 0;\n",
    "                display: flex;\n",
    "                flex-direction: column;\n",
    "                justify-content: center;\n",
    "                align-items: center;\n",
    "            }\n",
    "            \n",
    "            header {\n",
    "                background-color: #333;\n",
    "                color: #fff;\n",
    "                padding: 20px;\n",
    "                width: 100%;\n",
    "                display: flex;\n",
    "                justify-content: center;\n",
    "                align-items: center;\n",
    "            }\n",
    "            \n",
    "            h1 {\n",
    "                margin: 0;\n",
    "\n",
    "            }\n",
    "            \n",
    "            table {\n",
    "                border-collapse: collapse;\n",
    "                margin: 20px;\n",
    "                width: 80%;\n",
    "            }\n",
    "            \n",
    "            th, td {\n",
    "                border: 1px solid #ddd;\n",
    "                padding: 10px;\n",
    "                text-align: center;\n",
    "            }\n",
    "            \n",
    "            .TextBoxClass {\n",
    "                text-align: left;\n",
    "                max-width: 20vw;\n",
    "                overflow-wrap: anywhere;\n",
    "            }\n",
    "\n",
    "            .pass {\n",
    "                color: green;\n",
    "            }\n",
    "\n",
    "            .fail {\n",
    "                color: red;\n",
    "            }\n",
    "\n",
    "            th {\n",
    "                background-color: #f2f2f2;\n",
    "            }\n",
    "            \n",
    "            tr:nth-child(even) {\n",
    "                background-color: #f2f2f2;\n",
    "            }\n",
    "        </style>\n",
    "    </head>\n",
    "    <body>\n",
    "        <header>\n",
    "            <h1>TC-ADD-0041 Test Report</h1>\n",
    "        </header>\n",
    "        <table>\n",
    "            <thead>\n",
    "                <tr>\n",
    "                    <th>Command/Request</th>\n",
    "                    <th>Expected Result</th>\n",
    "                    <th>Action Result</th>\n",
    "                    <th>Pass/Fail</th>\n",
    "                </tr>\n",
    "            </thead>\n",
    "            <tbody>\n",
    "            </tbody>\n",
    "        </table>\n",
    "    </body>\n",
    "</html>\"\"\", 'html.parser')\n",
    "\n",
    "def entryWrite(command: str, expected_result: str, result: str, pass_fail: str):\n",
    "    \n",
    "    new_entry = BeautifulSoup(\"\"\"\n",
    "    <tr>\n",
    "        <td id=\"command\" class=\"TextBoxClass\">placeholder</td>\n",
    "        <td id=\"expected_result\" class=\"TextBoxClass\">placeholder</td>\n",
    "        <td id=\"result\" class=\"TextBoxClass\">placeholder</td>\n",
    "        <td id=\"pass_fail\" class=\"placeholder\">placeholder</td>\n",
    "    </tr>\"\"\", \"html.parser\")\n",
    "\n",
    "\n",
    "    command_tag = new_entry.tr.select_one(\"#command\")\n",
    "    command_tag.string = command\n",
    "\n",
    "    expected_result_tag = new_entry.tr.select_one(\"#expected_result\")\n",
    "    expected_result_tag.string = expected_result\n",
    "\n",
    "    result_tag = new_entry.tr.select_one(\"#result\")\n",
    "    result_tag.string = result\n",
    "\n",
    "\n",
    "    passFailTag = new_entry.tr.select_one(\"#pass_fail\")\n",
    "    passFailTag.string = pass_fail\n",
    "    passFailTag[\"class\"] = \"pass\" if pass_fail == \"PASS\" else \"fail\"\n",
    "\n",
    "    soup.body.table.tbody.append(new_entry)\n",
    "\n",
    "    with open(\"TC-ADD-0041-report.html\", \"w\") as report:\n",
    "        report.write(BeautifulSoup.prettify(soup))\n",
    "\n",
    "    report.close()"
   ]
  },
  {
   "cell_type": "markdown",
   "id": "d59611f1-0404-49e4-b591-524d49d0157e",
   "metadata": {},
   "source": [
    "# Initial setup of EODAG\n",
    "\n",
    "The following cell allows the configuration of EODAG, necessary for a correct execution."
   ]
  },
  {
   "cell_type": "code",
   "execution_count": null,
   "id": "419625d4-ab85-49d2-beb7-da135acacde8",
   "metadata": {
    "tags": []
   },
   "outputs": [],
   "source": [
    "from getpass import getpass\n",
    "from datetime import datetime,timedelta\n",
    "\n",
    "DESP_USERNAME = input(\"Please input your DESP username: \")\n",
    "DESP_PASSWORD = getpass(\"Please input your DESP password: \")\n",
    "\n",
    "dedl_config = \\\n",
    "f\"\"\"\n",
    "dedl:\n",
    "    priority: 10\n",
    "    search:\n",
    "        timeout: 60\n",
    "    download:\n",
    "        outputs_prefix: /home/jovyan/Notebook_Validation\n",
    "    auth:\n",
    "        credentials:\n",
    "            username: {DESP_USERNAME}\n",
    "            password: {DESP_PASSWORD}\n",
    "\"\"\""
   ]
  },
  {
   "cell_type": "markdown",
   "id": "fbbaea19",
   "metadata": {},
   "source": [
    "# DEDL As An Available Provider\n",
    "\n",
    "The following cell contains code that checks the existence of DEDL as an available provider according to DEDL. This is necessary to allow the data search and download performed in the next steps."
   ]
  },
  {
   "cell_type": "code",
   "execution_count": null,
   "id": "1afd5d0e-d8db-4751-8315-8957dee60bb9",
   "metadata": {
    "tags": []
   },
   "outputs": [],
   "source": [
    "import os\n",
    "from eodag import EODataAccessGateway\n",
    "\n",
    "dag = EODataAccessGateway()\n",
    "\n",
    "dag.update_providers_config(yaml_conf=dedl_config)\n",
    "\n",
    "providers = dag.available_providers()\n",
    "\n",
    "entryWrite(\n",
    "    \"dag.available_providers()\",\n",
    "    \"A list of all EODAG providers, which includes dedl\",\n",
    "    \", \".join(providers),\n",
    "    \"PASS\" if (\"dedl\" in providers) else \"FAIL\"\n",
    ")\n",
    "\n",
    "print(\"Entry added to the report\")"
   ]
  },
  {
   "cell_type": "markdown",
   "id": "b88b2acb",
   "metadata": {
    "tags": []
   },
   "source": [
    "# List DEDL's Product Types\n",
    "\n",
    "The execution of this cell will have two objectives:\n",
    "- Get the list of product types (collections) available to the EODAG user when specifying DEDL as a provider;\n",
    "- Verify the presence of the EO.ECMWF.DAT.DT_EXTREMES in the results;"
   ]
  },
  {
   "cell_type": "code",
   "execution_count": null,
   "id": "71ada436-4012-4247-851c-77fceb544bec",
   "metadata": {
    "tags": []
   },
   "outputs": [],
   "source": [
    "collection_list = dag.list_product_types(provider=\"dedl\", fetch_providers=False)\n",
    "\n",
    "def idGetter(col):\n",
    "    return col[\"ID\"]\n",
    "\n",
    "id_list = [idGetter(collection) for collection in collection_list]\n",
    "\n",
    "entryWrite(\n",
    "    'dag.list_product_types(provider=\"dedl\")',\n",
    "    \"The returned list contains the Climate DT dataset\",\n",
    "    \"Id's of the datasets that were found: \" + (\", \".join(id_list) if (len(id_list) != 0 ) else \"None\"),\n",
    "    \"PASS\" if (\"EO.ECMWF.DAT.DT_EXTREMES\" in id_list) else \"FAIL\"\n",
    ")\n",
    "\n",
    "\n",
    "print(\"Entry added to the report\")\n",
    "print(\"List of collections found: \")\n",
    "id_list"
   ]
  },
  {
   "cell_type": "markdown",
   "id": "e775ff3e",
   "metadata": {},
   "source": [
    "# Using AVISO to find a valid datetime\n",
    "\n",
    "The AVISO tool is leveraged here to find a valid datetime for the download request. The Extremes DT dataset is characterized by having a rolling buffer of data from the past 15 days, although it is not guaranteed that data was produced every day. AVISO allows us to find the right date. The next cell will install the AVISO Python package."
   ]
  },
  {
   "cell_type": "code",
   "execution_count": null,
   "id": "fbe0ecea-0521-4065-bba9-6d1756f11f5c",
   "metadata": {},
   "outputs": [],
   "source": [
    "import sys\n",
    "!{sys.executable} -m pip install pyaviso --quiet"
   ]
  },
  {
   "cell_type": "markdown",
   "id": "020a9ffc-063b-41dc-8cf9-b1b3ec983687",
   "metadata": {},
   "source": [
    "## AVISO imports and declaration of configuration variables"
   ]
  },
  {
   "cell_type": "code",
   "execution_count": null,
   "id": "dcd58b05",
   "metadata": {
    "tags": []
   },
   "outputs": [],
   "source": [
    "from pyaviso import NotificationManager, user_config\n",
    "\n",
    "LISTENER_EVENT = \"data\"  # Event for the listener, options are mars and dissemination\n",
    "TRIGGER_TYPE = \"function\"  # Type of trigger for the listener\n",
    "\n",
    "REQUEST = {\n",
    "    \"class\": \"d1\",\n",
    "    \"expver\": \"0001\",\n",
    "    \"stream\": \"oper\",\n",
    "    \"type\": \"fc\",\n",
    "    \"time\": \"00\",\n",
    "    \"step\": \"0\",\n",
    "    \"levtype\": \"sfc\",\n",
    "}  # Request configuration for the listener\n",
    "\n",
    "\n",
    "CONFIG = {\n",
    "    \"notification_engine\": {\n",
    "        \"host\": \"aviso.lumi.apps.dte.destination-earth.eu\",\n",
    "        \"port\": 443,\n",
    "        \"https\": True,\n",
    "    },\n",
    "    \"configuration_engine\": {\n",
    "        \"host\": \"aviso.lumi.apps.dte.destination-earth.eu\",\n",
    "        \"port\": 443,\n",
    "        \"https\": True,\n",
    "    },\n",
    "    \"schema_parser\": \"generic\",\n",
    "    \"remote_schema\": True,\n",
    "    \"auth_type\": \"none\",\n",
    "    \"quiet\" : True\n",
    "}  # manually defined configuration\n",
    "\n",
    "START_DATE=datetime.now() - timedelta(days=15)\n",
    "END_DATE=datetime.now()\n",
    "\n",
    "# This variable will be set by the listener's handler function with the most recent vaild date\n",
    "valid_date=\"\""
   ]
  },
  {
   "cell_type": "markdown",
   "id": "5a5dd31d-7fb8-445e-81a2-bc414569015f",
   "metadata": {},
   "source": [
    "## Event handler\n",
    "When the listener receives a notification, this function will be triggered. Besides printing the dates of existing data, it will also set the *valid_date* variable with the most recent valid date."
   ]
  },
  {
   "cell_type": "code",
   "execution_count": null,
   "id": "d8e9c70a",
   "metadata": {
    "tags": []
   },
   "outputs": [],
   "source": [
    "def triggered_function(notification):\n",
    "    \"\"\"\n",
    "    Function for the listener to trigger.\n",
    "    \"\"\"\n",
    "    \n",
    "    #pp(notification)\n",
    "    # Access the date field\n",
    "    date_str = notification['request']['date']    \n",
    "\n",
    "    # Convert the date string to a datetime object\n",
    "    date_obj = datetime.strptime(date_str, '%Y%m%d')\n",
    "    formatted_date = date_obj.isoformat()\n",
    "    \n",
    "    # This step is necessary to save the date outside of the function\n",
    "    global valid_date\n",
    "    if (valid_date == \"\"):\n",
    "        valid_date = f\"{formatted_date}Z\"\n",
    "    \n",
    "    print(\"ExtremeDT data available=>\" + formatted_date)"
   ]
  },
  {
   "cell_type": "markdown",
   "id": "ba8513d2-29cb-4f3c-ae27-02d7cecb9514",
   "metadata": {},
   "source": [
    "## Listener configuration\n",
    "This helper function facilitates the configuration of the listener"
   ]
  },
  {
   "cell_type": "code",
   "execution_count": null,
   "id": "6607f964",
   "metadata": {
    "tags": []
   },
   "outputs": [],
   "source": [
    "def create_hist_listener():\n",
    "    \"\"\"\n",
    "    Creates and returns a listener configuration.\n",
    "    \"\"\"\n",
    "\n",
    "    trigger = {\n",
    "        \"type\": TRIGGER_TYPE,\n",
    "        \"function\": triggered_function,\n",
    "    }  # Define the trigger for the listener\n",
    "    \n",
    "    # Return the complete listener configuration\n",
    "    return {\"event\": LISTENER_EVENT, \"request\": REQUEST, \"triggers\": [trigger]}"
   ]
  },
  {
   "cell_type": "markdown",
   "id": "3ab65cee-3769-4bc3-ae23-2c1468683fa2",
   "metadata": {},
   "source": [
    "## Listening for notifications\n",
    "The Notification Manager is configured to list past recent events. after the listening process is finished (it takes around 30 seconds), the notebooks execution will resume, with the valid date set in the appropriate variable."
   ]
  },
  {
   "cell_type": "code",
   "execution_count": null,
   "id": "1ab567da",
   "metadata": {
    "tags": []
   },
   "outputs": [],
   "source": [
    "listener = create_hist_listener()  # Create listener configuration\n",
    "listeners_config = {\"listeners\": [listener]}  # Define listeners configuration\n",
    "config = user_config.UserConfig(**CONFIG)\n",
    "print(\"Configuration loaded.\")\n",
    "nmh = NotificationManager()  # Initialize the NotificationManager\n",
    "print(f\"Notification Manager created, starting listening...\")\n",
    "\n",
    "nmh.listen(\n",
    "    listeners=listeners_config, from_date=START_DATE, to_date=END_DATE, config=config\n",
    ")  # Start listening"
   ]
  },
  {
   "cell_type": "markdown",
   "id": "d970c4db",
   "metadata": {},
   "source": [
    "# Search For Products Inside The DT Collection\n",
    "\n",
    "This cell focuses on using EODAG to drill into the collection, using its ID and a several search parameters. A non-empty list of features is expected.\n"
   ]
  },
  {
   "cell_type": "code",
   "execution_count": null,
   "id": "bb4d4820-e9bb-4c1b-a99e-32cdd5450d42",
   "metadata": {
    "collapsed": false,
    "jupyter": {
     "outputs_hidden": false
    },
    "tags": []
   },
   "outputs": [],
   "source": [
    "# SEARCH FOR PRODUCTS INSIDE A DATASET\n",
    "\n",
    "from datetime import datetime\n",
    "from eodag import setup_logging, SearchResult\n",
    "from random import randrange\n",
    "import copy\n",
    "\n",
    "setup_logging(1)  # 0: nothing, 1: only progress bars, 2: INFO, 3: DEBUG\n",
    "\n",
    "collection_search_result = dag.search(\n",
    "    productType=\"EO.ECMWF.DAT.DT_EXTREMES\",\n",
    "    start=valid_date,\n",
    "    end=valid_date,\n",
    "    **{\"class\": \"d1\"},     # fixed \n",
    "    dataset=\"extremes-dt\", # fixed extremes-dt access\n",
    "    expver=\"0001\",         # fixed experiment version \n",
    "    stream=\"oper\",         # fixed operation\n",
    "    type=\"fc\",             # fixed forecasted fields\n",
    "    levtype=\"sfc\",         # Surface fields (levtype=sfc), Height level fields (levtype=hl), Pressure level fields (levtype=pl), Model Level (Levtype=ml)\n",
    "    step=\"0\",              # Forcast step hourly (1..96)\n",
    "    param=\"31\"             # Surface Pressure parameter\n",
    "    )\n",
    "\n",
    "entryWrite(\n",
    "    f\"Parameterized search of product inside 'EO.ECMWF.DAT.DT_EXTREMES' collection)\",\n",
    "    \"A non-empty list of features present in the selected dataset\",\n",
    "    \"List size: \" + str(len(collection_search_result)),\n",
    "    \"PASS\" if (len(collection_search_result) != 0 ) else \"FAIL\"\n",
    ")\n",
    "\n",
    "print(collection_search_result)\n",
    "print(collection_search_result[0].search_kwargs)\n",
    "\n",
    "print(\"Entry added to the report\")\n",
    "\n",
    "print(\"Collection drilldown finished\")\n"
   ]
  },
  {
   "cell_type": "markdown",
   "id": "d797a443-9ea7-4803-9690-f9745d6e897e",
   "metadata": {},
   "source": [
    "# Download Of A Randomly Chosen Feature\n",
    "\n",
    "A random feature is selected from the previously chosen collection and downloaded."
   ]
  },
  {
   "cell_type": "code",
   "execution_count": null,
   "id": "428b158e-a24c-444e-835c-ac2a212c4c18",
   "metadata": {
    "tags": []
   },
   "outputs": [],
   "source": [
    "import os\n",
    "from eodag.api.product._product import EOProduct\n",
    "\n",
    "print(\"File initial location: \" + collection_search_result[0].location)\n",
    "\n",
    "productPath = dag.download(collection_search_result[0])\n",
    "product_exists = os.path.exists(productPath) and len(os.listdir(productPath)) != 0\n",
    "\n",
    "if product_exists:\n",
    "    productPath = f\"{productPath}/{os.listdir(productPath)[0]}\"\n",
    "\n",
    "entryWrite(\n",
    "    \"EoProductObj.download()\",\n",
    "    \"A new file is created with the downloaded content\",\n",
    "    \"File was created: \" + str(product_exists) + (\";\" if product_exists == False else f\"; file path: {productPath}\"),\n",
    "    \"PASS\" if (product_exists == True ) else \"FAIL\"\n",
    ")\n",
    "print(\"Entry added to the report\")\n",
    "    \n"
   ]
  },
  {
   "cell_type": "code",
   "execution_count": null,
   "id": "a9068924-0f44-4ea8-87d9-8f48ff3b9d67",
   "metadata": {},
   "outputs": [],
   "source": []
  }
 ],
 "metadata": {
  "kernelspec": {
   "display_name": "Python 3",
   "language": "python",
   "name": "python3"
  },
  "language_info": {
   "codemirror_mode": {
    "name": "ipython",
    "version": 3
   },
   "file_extension": ".py",
   "mimetype": "text/x-python",
   "name": "python",
   "nbconvert_exporter": "python",
   "pygments_lexer": "ipython3",
   "version": "3.10.12"
  }
 },
 "nbformat": 4,
 "nbformat_minor": 5
}
